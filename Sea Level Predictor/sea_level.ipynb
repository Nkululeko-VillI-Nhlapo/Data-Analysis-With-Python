{
 "cells": [
  {
   "cell_type": "markdown",
   "metadata": {},
   "source": [
    "# Sea Level Predictor\n",
    "###### Nhlapo Nkululeko\n",
    "\n",
    " \n",
    "\n",
    "The <span style=\"color: blue\">`sea_level_predictor.py`</span> script analyzes <span style=\"color: purple\">**historical sea level data**</span> sourced from the <span style=\"color: green\">**EPA (Environmental Protection Agency)**</span> to visualize and predict trends in sea level rise. The data, which includes measurements from <span style=\"color: orange\">**1880 to the present**</span>, is used to create a <span style=\"color: red\">**scatter plot**</span> of the <span style=\"color: teal\">**CSIRO Adjusted Sea Level**</span>. The script employs <span style=\"color: brown\">**linear regression**</span> from the <span style=\"color: purple\">**`scipy.stats`**</span> library to fit two lines of best fit: one using the entire dataset from <span style=\"color: navy\">**1880 to 2050**</span> and another using data from the year <span style=\"color: darkcyan\">**2000 onwards**</span> to predict future sea levels up to <span style=\"color: darkred\">**2050**</span>. By plotting these lines using <span style=\"color: purple\">**`matplotlib`**</span>, the script highlights <span style=\"background-color: yellow\">**long-term trends**</span> and <span style=\"background-color: cyan; color: black\">**recent accelerations**</span> in sea level rise, providing a clear graphical representation of historical and projected changes in global sea levels. The Script utilizes Scipy.stats and Matplotlib Libraries.\n",
    "\n",
    "Full code:<span style=\"color:blue\" src=\"https://github.com/Nkululeko-VillI-Nhlapo/Data-Analysis-With-Python/blob/main/Sea%20Level%20Predictor/sea_level_predictor.py\">`sea_level_predictor.py`</span>\n",
    "\n",
    "### Output \n",
    "<p style=\"text-align: center;\">Sea level change over the entire period</p>\n",
    "<img src=\"sea_level_plot.png\" alt=\"Sea Level Plot\" style=\"display: block; margin-left: auto; margin-right: auto; width: 80%; max-width: 1000px; height: auto;\">\n",
    "\n",
    "\n",
    "\n"
   ]
  }
 ],
 "metadata": {
  "language_info": {
   "name": "python"
  }
 },
 "nbformat": 4,
 "nbformat_minor": 2
}
