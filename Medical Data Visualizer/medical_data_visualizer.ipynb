{
 "cells": [
  {
   "cell_type": "markdown",
   "metadata": {},
   "source": [
    "### Data Analysis and Visualization on Medical Examination Dataset\n",
    "##### Nhlapo Nkululeko\n",
    "This is a Python script that uses <span style=\"color:blue\">**pandas**</span>, <span style=\"color:blue\">**seaborn**</span>, and <span style=\"color:blue\">**matplotlib**</span> to analyze and visualize data from a CSV file named <code>medical_examination.csv</code>. The script enhances the dataset by calculating a new '<span style=\"color:green\">overweight</span>' column based on <span style=\"color:blue\">**Body Mass Index (BMI)**</span>. It also normalizes the '<span style=\"color:green\">cholesterol</span>' and '<span style=\"color:green\">gluc</span>' columns to binary values for further analysis. Two main functions, <code>draw_cat_plot()</code> and <code>draw_heat_map()</code>, are defined to create insightful visualizations.\n",
    "\n",
    "**<code>draw_cat_plot()</code>** generates categorical plots (bar plots) that highlight variables such as <span style=\"color:red\">activity level</span>, <span style=\"color:red\">alcohol consumption</span>, <span style=\"color:red\">cholesterol</span>, <span style=\"color:red\">glucose</span>, <span style=\"color:red\">overweight status</span>, and <span style=\"color:red\">smoking</span>. These plots are grouped by the presence of <span style=\"color:blue\">**cardiovascular disease**</span>, providing separate insights for patients with and without cardiovascular issues. The results are saved as '<code>catplot.png</code>'.\n",
    "\n",
    "**<code>draw_heat_map()</code>**, on the other hand, filters the dataset based on specific health criteria including <span style=\"color:red\">blood pressure ranges</span>, <span style=\"color:red\">height</span>, and <span style=\"color:red\">weight percentiles</span>. It calculates the <span style=\"color:blue\">**correlation matrix**</span> of the filtered data and presents it as a <span style=\"color:blue\">**heatmap**</span> using seaborn. The heatmap masks the upper triangle, annotates values for clarity, and is saved as '<code>heatmap.png</code>'. This script ultimately aims to uncover correlations between key health indicators and cardiovascular disease, aiding in comprehensive data-driven insights.\n",
    "\n",
    "Full code can be found here [Python Code](https://github.com/Nkululeko-VillI-Nhlapo/Data-Analysis-With-Python/blob/main/Medical%20Data%20Visualizer/medical_data_visualizer.py).\n",
    "\n",
    "\n"
   ]
  },
  {
   "cell_type": "markdown",
   "metadata": {},
   "source": [
    "## Here is the Output\n",
    "\n",
    "<div style=\"display: flex; flex-wrap: wrap; justify-content: space-around;\">\n",
    "\n",
    "<div style=\"flex-basis: 45%; margin-right: 20px;\">\n",
    "    \n",
    "### HeatMap\n",
    "\n",
    "This heatmap visualizes the correlation matrix of health indicators from the medical examination dataset. It highlights relationships between variables such as blood pressure, height, weight, and other health metrics. The color intensity and annotations provide insights into the strength and direction of these correlations.\n",
    "\n",
    "<img src=\"heatmap.png\" alt=\"HeatMap\" style=\"width: 100%; height: auto;\">\n",
    "\n",
    "</div>\n",
    "\n",
    "<div style=\"flex-basis: 45%; margin-left: 20px;\">\n",
    "\n",
    "### CatPlot\n",
    "\n",
    "This categorical plot (bar plot) depicts the distribution of various lifestyle factors and health indicators grouped by cardiovascular disease status. Variables include activity level, alcohol consumption, cholesterol, glucose, overweight status, and smoking. It visually compares the prevalence of these factors between patients with and without cardiovascular disease.\n",
    "\n",
    "<img src=\"catplot.png\" alt=\"CatPlot\" style=\"width: 100%; height: auto;\">\n",
    "\n",
    "</div>\n",
    "\n",
    "</div>\n",
    "\n",
    "<hr>\n"
   ]
  }
 ],
 "metadata": {
  "kernelspec": {
   "display_name": "Python 3",
   "language": "python",
   "name": "python3"
  },
  "language_info": {
   "name": "python",
   "version": "3.12.4"
  }
 },
 "nbformat": 4,
 "nbformat_minor": 2
}

